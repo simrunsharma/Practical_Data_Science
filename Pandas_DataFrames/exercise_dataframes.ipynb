{
 "cells": [
  {
   "cell_type": "markdown",
   "metadata": {},
   "source": [
    "# Estimating Labor Market Returns to Education\n",
    "\n",
    "In this exercise, we're going to use data from the [American Communities Survey (ACS)](https://usa.ipums.org/usa/acs.shtml) to study the relationship betwen educational attainment and wages. The ACS is a survey conducted by the United States Census Bureau (though it is not \"The Census,\" which is a counting of every person in the United States that takes place every 10 years) to measure numerous features of the US population. The data we will be working with includes about 100 variables from the 2017 ACS survey, and is a 10% sample of the ACS (which itself is a 1% sample of the US population, so we're working with about a 0.1% sample of the United States). \n",
    "\n",
    "This data comes from [IPUMS](https://usa.ipums.org/usa/), which provides a very useful tool for getting subsets of major survey datasets, not just from the US, but [from government statistical agencies the world over](https://international.ipums.org/international-action/sample_details).\n",
    "\n",
    "This is *real* data, meaning that you are being provided the data as it is provided by IPUMS. Documentation for all variables used in this data can be found [here](https://usa.ipums.org/usa-action/variables/group) (you can either search by variable name to figure out the meaning of a variable in this data, or search for something you want to see if a variable with the right name is in this data). \n",
    "\n",
    "Within this data is information on both the educational background and current earnings of a representative sample of Americans. We will now use this data to estimate the labor-market returns to graduating high school and college, and to learn something about the meaning of an educational degree. "
   ]
  },
  {
   "cell_type": "markdown",
   "metadata": {},
   "source": [
    "## Gradescope Autograding\n",
    "\n",
    "Please follow [all standard guidance](https://www.practicaldatascience.org/html/autograder_guidelines.html) for submitting this assignment to the Gradescope autograder, including storing your solutions in a dictionary called `results` and ensuring your notebook runs from the start to completion without any errors.\n",
    "\n",
    "For this assignment, please name your file `exercise_dataframes.ipynb` before uploading.\n",
    "\n",
    "You can check that you have answers for all questions in your `results` dictionary with this code:\n",
    "\n",
    "```python\n",
    "assert set(results.keys()) == {\n",
    "    \"ex2_num_obs\",\n",
    "    \"ex3_num_vars\",\n",
    "    \"ex8_updated_num_obs\",\n",
    "    \"ex9_updated_num_obs\",\n",
    "    \"ex11_grade12_income\",\n",
    "    \"ex12_college_income\",\n",
    "    \"ex12_college_income_pct\",\n",
    "    \"ex14_high_school_dropout\",\n",
    "    \"ex15_grade_9\",\n",
    "    \"ex15_grade_10\",\n",
    "    \"ex15_grade_11\",\n",
    "    \"ex15_grade_12\",\n",
    "    \"ex15_4_years_of_college\",\n",
    "    \"ex15_graduate\",\n",
    "}\n",
    "```\n",
    "\n",
    "### Submission Limits\n",
    "\n",
    "Please remember that you are **only allowed three submissions to the autograder.** Your last submission (if you submit 3 or fewer times), or your third submission (if you submit more than 3 times) will determine your grade Submissions that error out will **not** count against this total.\n"
   ]
  },
  {
   "cell_type": "markdown",
   "metadata": {},
   "source": [
    "## Exercises"
   ]
  },
  {
   "cell_type": "markdown",
   "metadata": {},
   "source": [
    "### Exercise 1\n",
    "\n",
    "Data for these [exercises can be found here](https://github.com/nickeubank/MIDS_Data/tree/master/US_AmericanCommunitySurvey). \n",
    "\n",
    "Import `US_ACS_2017_10pct_sample.dta` into a pandas DataFrame (read it directly from a URL to help the autograder, please). \n",
    "\n",
    "This can be done with the command `pd.read_stata`, which will read in files created in the program Stata (and which uses the file suffix `.dta`). This is a format commonly used by social scientists."
   ]
  },
  {
   "cell_type": "code",
   "execution_count": 178,
   "metadata": {},
   "outputs": [],
   "source": [
    "import pandas as pd\n",
    "\n",
    "# loading the dataset\n",
    "acs = pd.read_stata(\n",
    "    \"https://github.com/nickeubank/MIDS_Data/raw/master/US_AmericanCommunitySurvey/US_ACS_2017_10pct_sample.dta\"\n",
    ")"
   ]
  },
  {
   "cell_type": "markdown",
   "metadata": {},
   "source": [
    "## Getting to Know Your Data\n",
    "\n",
    "When you get a new dataset like this, it's good to start by trying to get a feel for its contents and organization. Toy datasets you sometimes get in classes are often very small, and easy to look at, but this is a pretty large dataset, so you can't just open it up and get a good sense of it. Here are some ways to get to know your data. "
   ]
  },
  {
   "cell_type": "markdown",
   "metadata": {},
   "source": [
    "### Exercise 2\n",
    "\n",
    "How many observations are in your data? Store the answer in your `results` dictionary with the key `\"ex2_num_obs\"`."
   ]
  },
  {
   "cell_type": "code",
   "execution_count": 179,
   "metadata": {},
   "outputs": [
    {
     "name": "stdout",
     "output_type": "stream",
     "text": [
      "{'ex2_num_obs': 319004}\n"
     ]
    }
   ],
   "source": [
    "results = {}\n",
    "results[\"ex2_num_obs\"] = len(acs)\n",
    "print(results)"
   ]
  },
  {
   "cell_type": "markdown",
   "metadata": {},
   "source": [
    "### Exercise 3\n",
    "\n",
    "How many variables are in your data? Store the answer in your `results` dictionary with the key `\"ex3_num_vars\"`."
   ]
  },
  {
   "cell_type": "code",
   "execution_count": 180,
   "metadata": {},
   "outputs": [
    {
     "name": "stdout",
     "output_type": "stream",
     "text": [
      "{'ex2_num_obs': 319004, 'ex3_num_vars': 104}\n"
     ]
    }
   ],
   "source": [
    "results[\"ex3_num_vars\"] = len(acs.columns)\n",
    "print(results)"
   ]
  },
  {
   "cell_type": "markdown",
   "metadata": {},
   "source": [
    "### Exercise 4\n",
    "\n",
    " Let's see what variables are in this dataset. First, try to see them all using the command:\n",
    "\n",
    "\n",
    "```python\n",
    "acs.columns\n",
    "```"
   ]
  },
  {
   "cell_type": "markdown",
   "metadata": {},
   "source": [
    "As you will see, `python` doesn't like to print out all the different variables when there are this many in a dataset. \n",
    "\n",
    "To get everything printed out, we can loop over all the columns and print them one at a time with the command:\n",
    "\n",
    "```\n",
    "for c in acs.columns: print(c)\n",
    "```\n",
    "\n",
    "It's definitely a bit of a hack, but honestly a pretty useful one!"
   ]
  },
  {
   "cell_type": "code",
   "execution_count": 181,
   "metadata": {},
   "outputs": [
    {
     "name": "stdout",
     "output_type": "stream",
     "text": [
      "year\n",
      "datanum\n",
      "serial\n",
      "cbserial\n",
      "numprec\n",
      "subsamp\n",
      "hhwt\n",
      "hhtype\n",
      "cluster\n",
      "adjust\n",
      "cpi99\n",
      "region\n",
      "stateicp\n",
      "statefip\n",
      "countyicp\n",
      "countyfip\n",
      "metro\n",
      "city\n",
      "citypop\n",
      "strata\n",
      "gq\n",
      "farm\n",
      "ownershp\n",
      "ownershpd\n",
      "mortgage\n",
      "mortgag2\n",
      "mortamt1\n",
      "mortamt2\n",
      "respmode\n",
      "pernum\n",
      "cbpernum\n",
      "perwt\n",
      "slwt\n",
      "famunit\n",
      "sex\n",
      "age\n",
      "marst\n",
      "birthyr\n",
      "race\n",
      "raced\n",
      "hispan\n",
      "hispand\n",
      "bpl\n",
      "bpld\n",
      "citizen\n",
      "yrnatur\n",
      "yrimmig\n",
      "language\n",
      "languaged\n",
      "speakeng\n",
      "hcovany\n",
      "hcovpriv\n",
      "hinsemp\n",
      "hinspur\n",
      "hinstri\n",
      "hcovpub\n",
      "hinscaid\n",
      "hinscare\n",
      "hinsva\n",
      "hinsihs\n",
      "school\n",
      "educ\n",
      "educd\n",
      "gradeatt\n",
      "gradeattd\n",
      "schltype\n",
      "degfield\n",
      "degfieldd\n",
      "degfield2\n",
      "degfield2d\n",
      "empstat\n",
      "empstatd\n",
      "labforce\n",
      "occ\n",
      "ind\n",
      "classwkr\n",
      "classwkrd\n",
      "looking\n",
      "availble\n",
      "inctot\n",
      "ftotinc\n",
      "incwage\n",
      "incbus00\n",
      "incss\n",
      "incwelfr\n",
      "incinvst\n",
      "incretir\n",
      "incsupp\n",
      "incother\n",
      "incearn\n",
      "poverty\n",
      "migrate1\n",
      "migrate1d\n",
      "migplac1\n",
      "migcounty1\n",
      "migmet131\n",
      "vetdisab\n",
      "diffrem\n",
      "diffphys\n",
      "diffmob\n",
      "diffcare\n",
      "diffsens\n",
      "diffeye\n",
      "diffhear\n"
     ]
    }
   ],
   "source": [
    "# Exercise 4:\n",
    "for c in acs.columns:\n",
    "    print(c)"
   ]
  },
  {
   "cell_type": "markdown",
   "metadata": {},
   "source": [
    "### Exercise 5\n",
    "\n",
    "That's a *lot* of variables, and definitely more than we need. In general, life is easier when working with these kinds of huge datasets if you can narrow down the number of variables a little. In this exercise, we will be looking at the relationship between education and wages, we need variables for: \n",
    "\n",
    "- Age\n",
    "- Income\n",
    "- Education\n",
    "- Employment status (is the person actually working)\n",
    "\n",
    "These quantities of interest correspond to the following variables in our data: `age`, `inctot`, `educ`, and `empstat`. \n",
    "\n",
    "Subset your data to just those variables. "
   ]
  },
  {
   "cell_type": "code",
   "execution_count": 182,
   "metadata": {},
   "outputs": [
    {
     "data": {
      "text/plain": [
       "Index(['age', 'inctot', 'educ', 'empstat'], dtype='object')"
      ]
     },
     "execution_count": 182,
     "metadata": {},
     "output_type": "execute_result"
    }
   ],
   "source": [
    "acs = acs[[\"age\", \"inctot\", \"educ\", \"empstat\"]]\n",
    "acs.columns"
   ]
  },
  {
   "cell_type": "markdown",
   "metadata": {},
   "source": [
    "### Exercise 6 \n",
    "\n",
    "Now that we have a more manageable number of variables, it's often very useful to look at a handful of rows of your data. The easiest way to do this is probably the `.head()` method (which will show you the first five rows), or the `tail()` method, which will show you the last five rows. \n",
    "\n",
    "But to get a good sense of your data, it's often better to use the `sample()` command, which returns a random set of rows. As the first and last rows are sometimes not representative, a random set of rows can be very helpful. Try looking at a random sample of 20 rows (note: you don't have to run `.sample()` ten times to get ten rows. Look at the `.sample` help file if you're stuck. "
   ]
  },
  {
   "cell_type": "code",
   "execution_count": 183,
   "metadata": {},
   "outputs": [
    {
     "data": {
      "text/html": [
       "<div>\n",
       "<style scoped>\n",
       "    .dataframe tbody tr th:only-of-type {\n",
       "        vertical-align: middle;\n",
       "    }\n",
       "\n",
       "    .dataframe tbody tr th {\n",
       "        vertical-align: top;\n",
       "    }\n",
       "\n",
       "    .dataframe thead th {\n",
       "        text-align: right;\n",
       "    }\n",
       "</style>\n",
       "<table border=\"1\" class=\"dataframe\">\n",
       "  <thead>\n",
       "    <tr style=\"text-align: right;\">\n",
       "      <th></th>\n",
       "      <th>age</th>\n",
       "      <th>inctot</th>\n",
       "      <th>educ</th>\n",
       "      <th>empstat</th>\n",
       "    </tr>\n",
       "  </thead>\n",
       "  <tbody>\n",
       "    <tr>\n",
       "      <th>112403</th>\n",
       "      <td>65</td>\n",
       "      <td>1400</td>\n",
       "      <td>grade 12</td>\n",
       "      <td>not in labor force</td>\n",
       "    </tr>\n",
       "    <tr>\n",
       "      <th>215080</th>\n",
       "      <td>26</td>\n",
       "      <td>22100</td>\n",
       "      <td>grade 12</td>\n",
       "      <td>employed</td>\n",
       "    </tr>\n",
       "    <tr>\n",
       "      <th>107083</th>\n",
       "      <td>40</td>\n",
       "      <td>20400</td>\n",
       "      <td>grade 5, 6, 7, or 8</td>\n",
       "      <td>employed</td>\n",
       "    </tr>\n",
       "    <tr>\n",
       "      <th>49967</th>\n",
       "      <td>65</td>\n",
       "      <td>-5700</td>\n",
       "      <td>5+ years of college</td>\n",
       "      <td>unemployed</td>\n",
       "    </tr>\n",
       "    <tr>\n",
       "      <th>216806</th>\n",
       "      <td>45</td>\n",
       "      <td>94000</td>\n",
       "      <td>4 years of college</td>\n",
       "      <td>employed</td>\n",
       "    </tr>\n",
       "    <tr>\n",
       "      <th>16553</th>\n",
       "      <td>55</td>\n",
       "      <td>47700</td>\n",
       "      <td>grade 12</td>\n",
       "      <td>employed</td>\n",
       "    </tr>\n",
       "    <tr>\n",
       "      <th>67231</th>\n",
       "      <td>26</td>\n",
       "      <td>0</td>\n",
       "      <td>grade 12</td>\n",
       "      <td>not in labor force</td>\n",
       "    </tr>\n",
       "    <tr>\n",
       "      <th>262925</th>\n",
       "      <td>29</td>\n",
       "      <td>20100</td>\n",
       "      <td>grade 11</td>\n",
       "      <td>employed</td>\n",
       "    </tr>\n",
       "    <tr>\n",
       "      <th>115840</th>\n",
       "      <td>10</td>\n",
       "      <td>9999999</td>\n",
       "      <td>nursery school to grade 4</td>\n",
       "      <td>n/a</td>\n",
       "    </tr>\n",
       "    <tr>\n",
       "      <th>230324</th>\n",
       "      <td>60</td>\n",
       "      <td>37100</td>\n",
       "      <td>grade 12</td>\n",
       "      <td>not in labor force</td>\n",
       "    </tr>\n",
       "    <tr>\n",
       "      <th>112569</th>\n",
       "      <td>68</td>\n",
       "      <td>12600</td>\n",
       "      <td>4 years of college</td>\n",
       "      <td>not in labor force</td>\n",
       "    </tr>\n",
       "    <tr>\n",
       "      <th>243042</th>\n",
       "      <td>33</td>\n",
       "      <td>125000</td>\n",
       "      <td>5+ years of college</td>\n",
       "      <td>employed</td>\n",
       "    </tr>\n",
       "    <tr>\n",
       "      <th>16510</th>\n",
       "      <td>12</td>\n",
       "      <td>9999999</td>\n",
       "      <td>grade 5, 6, 7, or 8</td>\n",
       "      <td>n/a</td>\n",
       "    </tr>\n",
       "    <tr>\n",
       "      <th>167511</th>\n",
       "      <td>61</td>\n",
       "      <td>18600</td>\n",
       "      <td>1 year of college</td>\n",
       "      <td>not in labor force</td>\n",
       "    </tr>\n",
       "    <tr>\n",
       "      <th>229094</th>\n",
       "      <td>10</td>\n",
       "      <td>9999999</td>\n",
       "      <td>nursery school to grade 4</td>\n",
       "      <td>n/a</td>\n",
       "    </tr>\n",
       "    <tr>\n",
       "      <th>64238</th>\n",
       "      <td>4</td>\n",
       "      <td>9999999</td>\n",
       "      <td>n/a or no schooling</td>\n",
       "      <td>n/a</td>\n",
       "    </tr>\n",
       "    <tr>\n",
       "      <th>17990</th>\n",
       "      <td>26</td>\n",
       "      <td>0</td>\n",
       "      <td>1 year of college</td>\n",
       "      <td>not in labor force</td>\n",
       "    </tr>\n",
       "    <tr>\n",
       "      <th>190413</th>\n",
       "      <td>13</td>\n",
       "      <td>9999999</td>\n",
       "      <td>grade 5, 6, 7, or 8</td>\n",
       "      <td>n/a</td>\n",
       "    </tr>\n",
       "    <tr>\n",
       "      <th>108544</th>\n",
       "      <td>33</td>\n",
       "      <td>82000</td>\n",
       "      <td>1 year of college</td>\n",
       "      <td>employed</td>\n",
       "    </tr>\n",
       "    <tr>\n",
       "      <th>275561</th>\n",
       "      <td>53</td>\n",
       "      <td>35000</td>\n",
       "      <td>2 years of college</td>\n",
       "      <td>employed</td>\n",
       "    </tr>\n",
       "  </tbody>\n",
       "</table>\n",
       "</div>"
      ],
      "text/plain": [
       "       age   inctot                       educ             empstat\n",
       "112403  65     1400                   grade 12  not in labor force\n",
       "215080  26    22100                   grade 12            employed\n",
       "107083  40    20400        grade 5, 6, 7, or 8            employed\n",
       "49967   65    -5700        5+ years of college          unemployed\n",
       "216806  45    94000         4 years of college            employed\n",
       "16553   55    47700                   grade 12            employed\n",
       "67231   26        0                   grade 12  not in labor force\n",
       "262925  29    20100                   grade 11            employed\n",
       "115840  10  9999999  nursery school to grade 4                 n/a\n",
       "230324  60    37100                   grade 12  not in labor force\n",
       "112569  68    12600         4 years of college  not in labor force\n",
       "243042  33   125000        5+ years of college            employed\n",
       "16510   12  9999999        grade 5, 6, 7, or 8                 n/a\n",
       "167511  61    18600          1 year of college  not in labor force\n",
       "229094  10  9999999  nursery school to grade 4                 n/a\n",
       "64238    4  9999999        n/a or no schooling                 n/a\n",
       "17990   26        0          1 year of college  not in labor force\n",
       "190413  13  9999999        grade 5, 6, 7, or 8                 n/a\n",
       "108544  33    82000          1 year of college            employed\n",
       "275561  53    35000         2 years of college            employed"
      ]
     },
     "execution_count": 183,
     "metadata": {},
     "output_type": "execute_result"
    }
   ],
   "source": [
    "acs.sample(20)"
   ]
  },
  {
   "cell_type": "markdown",
   "metadata": {},
   "source": [
    "### Exercise 7\n",
    "\n",
    "Do you see any immediate problems? What issues do you see? (Please do answer in markdown)"
   ]
  },
  {
   "cell_type": "markdown",
   "metadata": {},
   "source": [
    "#### I notice a couple of issues with the data. First taking a look at the education column I see that anyone who is at the age of 14 and below are categorized with multiple grades rather than just one grade level like children ages 16-18. In the labor force column there are alot of NA values. In the incot values we have a lot of zeros with no context of what these values could mean. Why would someone older have 0 for inctot and someone who is a small child for example age 7 have an inctot value of 9,999,999"
   ]
  },
  {
   "cell_type": "markdown",
   "metadata": {},
   "source": [
    "### Exercise 8 \n",
    "\n",
    "One problem is that many people seem to have incomes of $9,999,999. Moreover, people with those incomes seem to be very young children. \n",
    "\n",
    "What you are seeing is one method (a relatively old one) for representing missing data. In this case, the value 9999999 is being used as a **sentinel value** — a way to denote missing data that was used back in the day when there was no way to add a special data type for mossing data. In this case, it identifies observations where the person is too young to work, so their income value is missing. \n",
    "\n",
    "So let's begin by dropping anyone who has `inctot` equal to 9999999.\n",
    "\n",
    "After dropping, how many observations do you have? Save your answer in your `results` dictionary under the key `\"ex8_updated_num_obs\"`"
   ]
  },
  {
   "cell_type": "code",
   "execution_count": 184,
   "metadata": {},
   "outputs": [
    {
     "name": "stdout",
     "output_type": "stream",
     "text": [
      "{'ex2_num_obs': 319004, 'ex3_num_vars': 104, 'ex8_updated_num_obs': 265103}\n"
     ]
    }
   ],
   "source": [
    "acs = acs[acs[\"inctot\"] != 9999999]\n",
    "results[\"ex8_updated_num_obs\"] = len(acs[\"inctot\"])\n",
    "print(results)\n",
    "# acs.loc[acs.index == 11]"
   ]
  },
  {
   "cell_type": "markdown",
   "metadata": {},
   "source": [
    "### Exercise 9\n",
    "\n",
    "OK, the other potential problem is that our data includes lots of people who are unemployed and people who are not in the labor force (this means they not only don't have a job, but also aren't looking for a job). For this analysis, we want to focus on the wages of people who are currently employed. So subset the dataset for the people for whom `empstat` is equal to \"employed\". \n",
    "\n",
    "Note that our decision to only look at people who are employed impacts how we should interpret the relationship we estimate between education and income. Because we are only looking at employed people, we will be estimating the relationship between education and income *for people who are employed*. That means that if education affects the *likelihood* someone is employed, we won't capture that in this analysis.\n",
    "\n",
    "(You might also want to run `.sample()` after this just to make sure you were successful in your subsetting).\n",
    "\n",
    "After this subsetting, how many observations do you have? Save your answer in your `results` dictionary under the key `\"ex9_updated_num_obs\"`"
   ]
  },
  {
   "cell_type": "code",
   "execution_count": 185,
   "metadata": {},
   "outputs": [
    {
     "name": "stdout",
     "output_type": "stream",
     "text": [
      "   age  inctot                 educ   empstat\n",
      "1   17    6000             grade 11  employed\n",
      "2   63    6150   4 years of college  employed\n",
      "5   50   50000             grade 12  employed\n",
      "9   17    2000             grade 12  employed\n",
      "10  47   18000  n/a or no schooling  employed\n",
      "148758\n"
     ]
    },
    {
     "data": {
      "text/plain": [
       "{'ex2_num_obs': 319004,\n",
       " 'ex3_num_vars': 104,\n",
       " 'ex8_updated_num_obs': 265103,\n",
       " 'ex9_updated_num_obs': 148758}"
      ]
     },
     "execution_count": 185,
     "metadata": {},
     "output_type": "execute_result"
    }
   ],
   "source": [
    "# exercise 9\n",
    "acs = acs[acs[\"empstat\"] == \"employed\"]\n",
    "acs_employed = acs[acs[\"empstat\"] == \"employed\"]\n",
    "print(acs_employed.head())\n",
    "print(acs.shape[0])\n",
    "acs.sample(20)\n",
    "results[\"ex9_updated_num_obs\"] = len(acs[\"empstat\"])\n",
    "results"
   ]
  },
  {
   "cell_type": "markdown",
   "metadata": {},
   "source": [
    "### Exercise 10\n",
    "\n",
    "Now let's turn to education. The `educ` variable seems to have a lot of discrete values. Let's see what values exist, and their distribution, using the `value_counts()` method. This is an *extremely* useful tool you'll use a lot! Try the following code (modified for the name of your dataset, of course):\n",
    "\n",
    "```python\n",
    "acs[\"educ\"].value_counts()\n",
    "```"
   ]
  },
  {
   "cell_type": "code",
   "execution_count": 186,
   "metadata": {},
   "outputs": [
    {
     "data": {
      "text/plain": [
       "educ\n",
       "grade 12                     47815\n",
       "4 years of college           33174\n",
       "1 year of college            22899\n",
       "5+ years of college          20995\n",
       "2 years of college           14077\n",
       "grade 11                      2747\n",
       "grade 5, 6, 7, or 8           2092\n",
       "grade 10                      1910\n",
       "n/a or no schooling           1291\n",
       "grade 9                       1290\n",
       "nursery school to grade 4      468\n",
       "Name: count, dtype: int64"
      ]
     },
     "execution_count": 186,
     "metadata": {},
     "output_type": "execute_result"
    }
   ],
   "source": [
    "acs[\"educ\"].value_counts()"
   ]
  },
  {
   "cell_type": "markdown",
   "metadata": {},
   "source": [
    "### Exercise 11\n",
    "\n",
    "There are a lot of values in here, so let's just check a couple. What is the average value of `inctot` for people whose highest grade level is \"grade 12\" (in the US, that is someone who has graduated high school)?\n",
    "\n",
    "Save your answer in your `results` dictionary under the key `\"ex11_grade12_income\"`."
   ]
  },
  {
   "cell_type": "code",
   "execution_count": 187,
   "metadata": {},
   "outputs": [
    {
     "name": "stdout",
     "output_type": "stream",
     "text": [
      "       age  inctot                 educ   empstat\n",
      "1       17    6000             grade 11  employed\n",
      "2       63    6150   4 years of college  employed\n",
      "5       50   50000             grade 12  employed\n",
      "9       17    2000             grade 12  employed\n",
      "10      47   18000  n/a or no schooling  employed\n",
      "...     ..     ...                  ...       ...\n",
      "318995  67  125000             grade 12  employed\n",
      "318999  33   22130   4 years of college  employed\n",
      "319001  20    5000             grade 12  employed\n",
      "319002  47  240000  5+ years of college  employed\n",
      "319003  33   48000  5+ years of college  employed\n",
      "\n",
      "[148758 rows x 4 columns]\n",
      "       age  inctot      educ   empstat\n",
      "5       50   50000  grade 12  employed\n",
      "9       17    2000  grade 12  employed\n",
      "22      28   58000  grade 12  employed\n",
      "23      48   52000  grade 12  employed\n",
      "39      20   43000  grade 12  employed\n",
      "...     ..     ...       ...       ...\n",
      "318973  50   32000  grade 12  employed\n",
      "318983  64   45600  grade 12  employed\n",
      "318987  36   50000  grade 12  employed\n",
      "318995  67  125000  grade 12  employed\n",
      "319001  20    5000  grade 12  employed\n",
      "\n",
      "[47815 rows x 4 columns]\n",
      "{'ex2_num_obs': 319004, 'ex3_num_vars': 104, 'ex8_updated_num_obs': 265103, 'ex9_updated_num_obs': 148758, 'ex11_grade12_income': 38957.76068179442}\n"
     ]
    }
   ],
   "source": [
    "import numpy as np\n",
    "\n",
    "print(acs_employed)\n",
    "acs_grade_12 = acs[acs[\"educ\"] == \"grade 12\"]\n",
    "print(acs_grade_12)\n",
    "mean_values = np.mean([acs_grade_12[\"inctot\"]])\n",
    "results[\"ex11_grade12_income\"] = mean_values\n",
    "print(results)"
   ]
  },
  {
   "cell_type": "markdown",
   "metadata": {},
   "source": [
    "### Exercise 12\n",
    "\n",
    "What is the average income of someone who has completed an undergraduate degree but not done any postgraduate education (\"4 years of college\")? \n",
    "\n",
    "Save your answer in your `results` dictionary under the key `\"ex12_college_income\"`.\n",
    "\n",
    "In percentage terms, how much does an employed college graduate earn as compared to someone who is only a high school graduate? Use the reference category that gives an answer above 100.\n",
    "\n",
    "Store your answer in `\"ex12_college_income_pct\"`. Put your answer in percentage terms (so 100 implies they earn the same amount).\n",
    "\n",
    "*Make sure to interpret your result in words when you print it out!*"
   ]
  },
  {
   "cell_type": "code",
   "execution_count": 188,
   "metadata": {},
   "outputs": [
    {
     "name": "stdout",
     "output_type": "stream",
     "text": [
      "75485.05293301983\n",
      "38957.76068179442\n",
      "1.937612727527617\n"
     ]
    },
    {
     "data": {
      "text/plain": [
       "{'ex2_num_obs': 319004,\n",
       " 'ex3_num_vars': 104,\n",
       " 'ex8_updated_num_obs': 265103,\n",
       " 'ex9_updated_num_obs': 148758,\n",
       " 'ex11_grade12_income': 38957.76068179442,\n",
       " 'ex12_college_income': 75485.05293301983,\n",
       " 'ex12_college_income_pct': 193.7612727527617}"
      ]
     },
     "execution_count": 188,
     "metadata": {},
     "output_type": "execute_result"
    }
   ],
   "source": [
    "# exercise 12\n",
    "acs_4_year = acs[acs[\"educ\"] == \"4 years of college\"]\n",
    "mean_4_year = np.mean(acs_4_year[\"inctot\"])\n",
    "# print(acs_4_year)\n",
    "print(mean_4_year)\n",
    "print(mean_values)\n",
    "results[\"ex12_college_income\"] = mean_4_year\n",
    "\n",
    "# percentage terms\n",
    "percent = mean_4_year / mean_values\n",
    "print(percent)\n",
    "results[\"ex12_college_income_pct\"] = percent * 100\n",
    "results"
   ]
  },
  {
   "cell_type": "markdown",
   "metadata": {},
   "source": [
    "\n",
    "### Exercise 13\n",
    "What does that suggest is the value of getting a college degree after graduating high school?"
   ]
  },
  {
   "cell_type": "markdown",
   "metadata": {},
   "source": [
    "#### The value being 193.76 means that the comparison between high school and college graduates is almost double. Meaning you earn almost double the income if you were to get an undergraduate degree. "
   ]
  },
  {
   "cell_type": "markdown",
   "metadata": {},
   "source": [
    "### Exercise 14\n",
    "\n",
    "What is the average income for someone who has not finished high school? What does that suggest is the value of a high school diploma? (Treat `n/a or no schooling` as having no formal schooling, not as missing).\n",
    "\n",
    "**Hint:** You may find the [.isin()](https://pandas.pydata.org/pandas-docs/stable/reference/api/pandas.DataFrame.isin.html) method to be really helpful here.\n",
    "\n",
    "Save your answer in your `results` dictionary under the key `\"ex14_high_school_dropout\"`."
   ]
  },
  {
   "cell_type": "code",
   "execution_count": 189,
   "metadata": {},
   "outputs": [
    {
     "name": "stdout",
     "output_type": "stream",
     "text": [
      "1.4854374262522865\n"
     ]
    },
    {
     "data": {
      "text/plain": [
       "{'ex2_num_obs': 319004,\n",
       " 'ex3_num_vars': 104,\n",
       " 'ex8_updated_num_obs': 265103,\n",
       " 'ex9_updated_num_obs': 148758,\n",
       " 'ex11_grade12_income': 38957.76068179442,\n",
       " 'ex12_college_income': 75485.05293301983,\n",
       " 'ex12_college_income_pct': 193.7612727527617,\n",
       " 'ex14_high_school_dropout': 26226.45692998571}"
      ]
     },
     "execution_count": 189,
     "metadata": {},
     "output_type": "execute_result"
    }
   ],
   "source": [
    "# exercise 14\n",
    "high_school_dropout = [\n",
    "    \"grade 11\",\n",
    "    \"grade 5, 6, 7, or 8\",\n",
    "    \"grade 10\",\n",
    "    \"n/a or no schooling\",\n",
    "    \"grade 9\",\n",
    "    \"nursery school to grade 4\",\n",
    "]\n",
    "\n",
    "results[\"ex14_high_school_dropout\"] = acs.loc[\n",
    "    acs[\"educ\"].isin(high_school_dropout), \"inctot\"\n",
    "].mean()\n",
    "\n",
    "print(results[\"ex11_grade12_income\"] / results[\"ex14_high_school_dropout\"])\n",
    "results"
   ]
  },
  {
   "cell_type": "markdown",
   "metadata": {},
   "source": [
    "EXERCISE 14:\n",
    "The average income for someone who hasn't finished highschool is : 26,226\n",
    "The value of a highschool diploma is 75,485 so there is a huge significance to having a diploma compared to not having it."
   ]
  },
  {
   "cell_type": "markdown",
   "metadata": {},
   "source": [
    "### Exercise 15 \n",
    "\n",
    "Complete the following table (storing values under the provided keys where listed):\n",
    "\n",
    "- Average income for someone who only completed 9th grade (`ex15_grade_9`): _________\n",
    "- Average income for someone who only completed 10th grade (`ex15_grade_10`): _________\n",
    "- Average income for someone who only completed 11th grade (`ex15_grade_11`): _________\n",
    "- Average income for someone who finished high school (12th grade) but never started college (`ex15_grade_12`): _________\n",
    "- Average income for someone who completed 4 year of college (in the US, this corresponds to getting an undergraduate degree), but has no post-graduate education (no more than 4 years, `ex15_4_years_of_college`): _________\n",
    "- Average income for someone who has some graduate education (more than 4 years, `ex15_graduate`): _________"
   ]
  },
  {
   "cell_type": "code",
   "execution_count": 190,
   "metadata": {},
   "outputs": [
    {
     "data": {
      "text/plain": [
       "{'ex2_num_obs': 319004,\n",
       " 'ex3_num_vars': 104,\n",
       " 'ex8_updated_num_obs': 265103,\n",
       " 'ex9_updated_num_obs': 148758,\n",
       " 'ex11_grade12_income': 38957.76068179442,\n",
       " 'ex12_college_income': 75485.05293301983,\n",
       " 'ex12_college_income_pct': 193.7612727527617,\n",
       " 'ex14_high_school_dropout': 26226.45692998571,\n",
       " 'ex15_grade_9': 27171.907751937986,\n",
       " 'ex15_grade_10': 23018.795811518325,\n",
       " 'ex15_grade_11': 21541.68693119767,\n",
       " 'ex15_grade_12': 38957.76068179442,\n",
       " 'ex15_4_years_of_college': 75485.05293301983,\n",
       " 'ex15_graduate': 110013.2213384139}"
      ]
     },
     "execution_count": 190,
     "metadata": {},
     "output_type": "execute_result"
    }
   ],
   "source": [
    "# Exercise 15\n",
    "# ex15_grade_9\n",
    "acs_9 = acs[acs[\"educ\"] == \"grade 9\"]\n",
    "mean_9_grade = np.mean(acs_9[\"inctot\"])\n",
    "results[\"ex15_grade_9\"] = mean_9_grade\n",
    "# ex15_grade_10\n",
    "acs_10 = acs[acs[\"educ\"] == \"grade 10\"]\n",
    "mean_10_grade = np.mean(acs_10[\"inctot\"])\n",
    "results[\"ex15_grade_10\"] = mean_10_grade\n",
    "# ex15_grade_11\n",
    "acs_11 = acs[acs[\"educ\"] == \"grade 11\"]\n",
    "mean_11_grade = np.mean(acs_11[\"inctot\"])\n",
    "results[\"ex15_grade_11\"] = mean_11_grade\n",
    "# ex15_grade_12\n",
    "acs_12 = acs[acs[\"educ\"] == \"grade 12\"]\n",
    "mean_12_grade = np.mean(acs_12[\"inctot\"])\n",
    "results[\"ex15_grade_12\"] = mean_12_grade\n",
    "# ex15_4_years_of_college\n",
    "acs_undergrad = acs[acs[\"educ\"] == \"4 years of college\"]\n",
    "mean_undergrad = np.mean(acs_undergrad[\"inctot\"])\n",
    "results[\"ex15_4_years_of_college\"] = mean_undergrad\n",
    "# ex15_graduate\n",
    "acs_grad = acs[acs[\"educ\"] == \"5+ years of college\"]\n",
    "mean_grad = np.mean(acs_grad[\"inctot\"])\n",
    "results[\"ex15_graduate\"] = mean_grad\n",
    "\n",
    "results"
   ]
  },
  {
   "cell_type": "code",
   "execution_count": 191,
   "metadata": {},
   "outputs": [
    {
     "ename": "",
     "evalue": "",
     "output_type": "error",
     "traceback": [
      "\u001b[1;31mThe Kernel crashed while executing code in the the current cell or a previous cell. Please review the code in the cell(s) to identify a possible cause of the failure. Click <a href='https://aka.ms/vscodeJupyterKernelCrash'>here</a> for more info. View Jupyter <a href='command:jupyter.viewOutput'>log</a> for further details."
     ]
    }
   ],
   "source": [
    "assert set(results.keys()) == {\n",
    "    \"ex2_num_obs\",\n",
    "    \"ex3_num_vars\",\n",
    "    \"ex8_updated_num_obs\",\n",
    "    \"ex9_updated_num_obs\",\n",
    "    \"ex11_grade12_income\",\n",
    "    \"ex12_college_income\",\n",
    "    \"ex12_college_income_pct\",\n",
    "    \"ex14_high_school_dropout\",\n",
    "    \"ex15_grade_9\",\n",
    "    \"ex15_grade_10\",\n",
    "    \"ex15_grade_11\",\n",
    "    \"ex15_grade_12\",\n",
    "    \"ex15_4_years_of_college\",\n",
    "    \"ex15_graduate\",\n",
    "}"
   ]
  },
  {
   "cell_type": "markdown",
   "metadata": {},
   "source": [
    "### Exercise 16 \n",
    "\n",
    "Why do you think there is no benefit from moving from grade 9 to grade 10, or grade 10 to grade 11, but there is a huge benefit to moving from grade 11 to graduating high school (grade 12)?\n",
    "\n",
    "(Think carefully before reading ahead!)"
   ]
  },
  {
   "cell_type": "markdown",
   "metadata": {},
   "source": [
    "#### When you are still under the grade 12 it means you haven't completed your full four years of highschool. The quality of education of just completing the first few years of education is not as valuable as highschool diploma or a undergraduate diploma. "
   ]
  },
  {
   "cell_type": "markdown",
   "metadata": {},
   "source": [
    "## Take-aways\n",
    "\n",
    "Congratulations! You just discovered \"the sheepskin effect!\": people with degrees tend to earn substantially more than people who have *almost* as much education, but don't have an actual degree. \n",
    "\n",
    "In economics, this is viewed as evidence that the reason employers pay people with high school degrees more than those without degree is *not* that they think those who graduated high school have learned specific, useful skills. If that were the case, we would expect employee earnings to rise with every year of high school, since in each year of high school we learn more. \n",
    "\n",
    "Instead, this suggests employees pay high school graduates more because they think *the kind of people* who can finish high school are the *kind of people* who are likely to succeed at their jobs. Finishing high school, in other words, isn't about accumulating specific knowledge; it's about showing that you *are the kind of person* who can rise to the challenge of finishing high school, also suggesting you are also the kind of person who can succeed as an employee. \n",
    "\n",
    "(Obviously, this does not tell us whether that is an *accurate* inference, just that that seems to be how employeers think.) \n",
    "\n",
    "In other words, in the eyes of employers, a high school degree is a *signal* about the kind of person you are, not certification that you've learned a specific set of skills (an idea that earned [Michael Spence](https://en.wikipedia.org/wiki/Michael_Spence) a Nobel Prize in Economics). "
   ]
  }
 ],
 "metadata": {
  "kernelspec": {
   "display_name": "Python 3.10.2 ('ds')",
   "language": "python",
   "name": "python3"
  },
  "language_info": {
   "codemirror_mode": {
    "name": "ipython",
    "version": 3
   },
   "file_extension": ".py",
   "mimetype": "text/x-python",
   "name": "python",
   "nbconvert_exporter": "python",
   "pygments_lexer": "ipython3",
   "version": "3.11.5"
  },
  "vscode": {
   "interpreter": {
    "hash": "b9e56a7b23b1fac2eea1a993b805ed5c611aea1439c1f46315b23590ab6d3ba0"
   }
  }
 },
 "nbformat": 4,
 "nbformat_minor": 4
}
