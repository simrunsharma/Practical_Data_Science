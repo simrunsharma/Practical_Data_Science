{
    "cells": [
        {
            "cell_type": "markdown",
            "metadata": {},
            "source": [
                "# Cleaning Data Exercises\n",
                "\n",
                "In this exercise, we'll be returning to the American Community Survey data we used previously to measuring racial income inequality in the United States. In today's exercise, we'll be using it to measure the returns to education and how those returns vary by race and gender.\n",
                "\n"
            ]
        },
        {
            "cell_type": "markdown",
            "metadata": {},
            "source": [
                "\n",
                "## Gradescope Autograding\n",
                "\n",
                "Please follow [all standard guidance](https://www.practicaldatascience.org/html/autograder_guidelines.html) for submitting this assignment to the Gradescope autograder, including storing your solutions in a dictionary called `results` and ensuring your notebook runs from the start to completion without any errors.\n",
                "\n",
                "For this assignment, please name your file `exercise_missing.ipynb` before uploading.\n",
                "\n",
                "You can check that you have answers for all questions in your `results` dictionary with this code:\n",
                "\n",
                "```python\n",
                "assert set(results.keys()) == {\n",
                "    \"ex5_age_young\",\n",
                "    \"ex5_age_old\",\n",
                "    \"ex7_avg_age\",\n",
                "    \"ex8_avg_age\",\n",
                "    \"ex9_num_college\",\n",
                "    \"ex11_share_male_w_degrees\",\n",
                "    \"ex11_share_female_w_degrees\",\n",
                "    \"ex12_comparing\",\n",
                "}\n",
                "```\n",
                "\n",
                "\n",
                "### Submission Limits\n",
                "\n",
                "Please remember that you are **only allowed three submissions to the autograder.** Your last submission (if you submit 3 or fewer times), or your third submission (if you submit more than 3 times) will determine your grade Submissions that error out will **not** count against this total."
            ]
        },
        {
            "cell_type": "markdown",
            "metadata": {},
            "source": [
                "## Exercises\n",
                "\n",
                "### Exercise 1\n",
                "\n",
                "For these cleaning exercises, we'll return to the ACS data we've used before one last time. We'll be working with `US_ACS_2017_10pct_sample.dta`. Import the data (please use url for the autograder)."
            ]
        },
        {
            "cell_type": "code",
            "execution_count": 1,
            "metadata": {},
            "outputs": [],
            "source": [
                "import pandas as pd\n",
                "\n",
                "pd.set_option(\"mode.copy_on_write\", True)\n",
                "\n",
                "\n",
                "# loading the dataset\n",
                "acs = pd.read_stata(\n",
                "    \"https://github.com/nickeubank/MIDS_Data/raw/master/US_AmericanCommunitySurvey/US_ACS_2017_10pct_sample.dta\"\n",
                ")\n",
                "\n",
                "# initializing dictionary\n",
                "results = {}"
            ]
        },
        {
            "cell_type": "markdown",
            "metadata": {},
            "source": [
                "### Exercise 2\n",
                "\n",
                "For our exercises today, we'll focus on `age`, `sex`, `educ` (education), and `inctot` (total income). Subset your data to those variables, and quickly look at a sample of 10 rows."
            ]
        },
        {
            "cell_type": "code",
            "execution_count": 2,
            "metadata": {},
            "outputs": [
                {
                    "name": "stdout",
                    "output_type": "stream",
                    "text": [
                        "The following is a table that is subsetted for age, education, income, and sex\n",
                        "       age                       educ   inctot     sex\n",
                        "0        4  nursery school to grade 4  9999999  female\n",
                        "1       17                   grade 11     6000  female\n",
                        "2       63         4 years of college     6150    male\n",
                        "3       66                   grade 12    14000  female\n",
                        "4        1        n/a or no schooling  9999999    male\n",
                        "...     ..                        ...      ...     ...\n",
                        "318999  33         4 years of college    22130  female\n",
                        "319000   4  nursery school to grade 4  9999999  female\n",
                        "319001  20                   grade 12     5000    male\n",
                        "319002  47        5+ years of college   240000    male\n",
                        "319003  33        5+ years of college    48000    male\n",
                        "\n",
                        "[319004 rows x 4 columns]\n"
                    ]
                }
            ],
            "source": [
                "acs = acs[[\"age\", \"educ\", \"inctot\", \"sex\"]]\n",
                "print(\"The following is a table that is subsetted for age, education, income, and sex\")\n",
                "print(acs)"
            ]
        },
        {
            "cell_type": "markdown",
            "metadata": {},
            "source": [
                "### Exercise 3\n",
                "\n",
                "As before, all the values of `9999999` have the potential to cause us real problems, so replace all the values of `inctot` that are `9999999` with `np.nan`. "
            ]
        },
        {
            "cell_type": "code",
            "execution_count": 3,
            "metadata": {},
            "outputs": [
                {
                    "data": {
                        "text/html": [
                            "<div>\n",
                            "<style scoped>\n",
                            "    .dataframe tbody tr th:only-of-type {\n",
                            "        vertical-align: middle;\n",
                            "    }\n",
                            "\n",
                            "    .dataframe tbody tr th {\n",
                            "        vertical-align: top;\n",
                            "    }\n",
                            "\n",
                            "    .dataframe thead th {\n",
                            "        text-align: right;\n",
                            "    }\n",
                            "</style>\n",
                            "<table border=\"1\" class=\"dataframe\">\n",
                            "  <thead>\n",
                            "    <tr style=\"text-align: right;\">\n",
                            "      <th></th>\n",
                            "      <th>age</th>\n",
                            "      <th>educ</th>\n",
                            "      <th>inctot</th>\n",
                            "      <th>sex</th>\n",
                            "    </tr>\n",
                            "  </thead>\n",
                            "  <tbody>\n",
                            "    <tr>\n",
                            "      <th>136741</th>\n",
                            "      <td>15</td>\n",
                            "      <td>grade 9</td>\n",
                            "      <td>0.0</td>\n",
                            "      <td>male</td>\n",
                            "    </tr>\n",
                            "    <tr>\n",
                            "      <th>40068</th>\n",
                            "      <td>77</td>\n",
                            "      <td>grade 12</td>\n",
                            "      <td>36200.0</td>\n",
                            "      <td>male</td>\n",
                            "    </tr>\n",
                            "    <tr>\n",
                            "      <th>59267</th>\n",
                            "      <td>58</td>\n",
                            "      <td>4 years of college</td>\n",
                            "      <td>0.0</td>\n",
                            "      <td>female</td>\n",
                            "    </tr>\n",
                            "    <tr>\n",
                            "      <th>141069</th>\n",
                            "      <td>59</td>\n",
                            "      <td>grade 12</td>\n",
                            "      <td>8400.0</td>\n",
                            "      <td>male</td>\n",
                            "    </tr>\n",
                            "    <tr>\n",
                            "      <th>212024</th>\n",
                            "      <td>56</td>\n",
                            "      <td>grade 12</td>\n",
                            "      <td>100000.0</td>\n",
                            "      <td>male</td>\n",
                            "    </tr>\n",
                            "    <tr>\n",
                            "      <th>184478</th>\n",
                            "      <td>56</td>\n",
                            "      <td>4 years of college</td>\n",
                            "      <td>80000.0</td>\n",
                            "      <td>female</td>\n",
                            "    </tr>\n",
                            "    <tr>\n",
                            "      <th>112077</th>\n",
                            "      <td>48</td>\n",
                            "      <td>5+ years of college</td>\n",
                            "      <td>175000.0</td>\n",
                            "      <td>male</td>\n",
                            "    </tr>\n",
                            "    <tr>\n",
                            "      <th>263712</th>\n",
                            "      <td>58</td>\n",
                            "      <td>grade 12</td>\n",
                            "      <td>9100.0</td>\n",
                            "      <td>female</td>\n",
                            "    </tr>\n",
                            "    <tr>\n",
                            "      <th>77546</th>\n",
                            "      <td>22</td>\n",
                            "      <td>grade 12</td>\n",
                            "      <td>0.0</td>\n",
                            "      <td>female</td>\n",
                            "    </tr>\n",
                            "    <tr>\n",
                            "      <th>107543</th>\n",
                            "      <td>60</td>\n",
                            "      <td>4 years of college</td>\n",
                            "      <td>61200.0</td>\n",
                            "      <td>male</td>\n",
                            "    </tr>\n",
                            "    <tr>\n",
                            "      <th>296739</th>\n",
                            "      <td>30</td>\n",
                            "      <td>4 years of college</td>\n",
                            "      <td>10000.0</td>\n",
                            "      <td>female</td>\n",
                            "    </tr>\n",
                            "    <tr>\n",
                            "      <th>71168</th>\n",
                            "      <td>15</td>\n",
                            "      <td>grade 10</td>\n",
                            "      <td>0.0</td>\n",
                            "      <td>female</td>\n",
                            "    </tr>\n",
                            "    <tr>\n",
                            "      <th>177867</th>\n",
                            "      <td>22</td>\n",
                            "      <td>4 years of college</td>\n",
                            "      <td>3000.0</td>\n",
                            "      <td>male</td>\n",
                            "    </tr>\n",
                            "    <tr>\n",
                            "      <th>237886</th>\n",
                            "      <td>2</td>\n",
                            "      <td>n/a or no schooling</td>\n",
                            "      <td>NaN</td>\n",
                            "      <td>male</td>\n",
                            "    </tr>\n",
                            "    <tr>\n",
                            "      <th>62670</th>\n",
                            "      <td>49</td>\n",
                            "      <td>5+ years of college</td>\n",
                            "      <td>230000.0</td>\n",
                            "      <td>male</td>\n",
                            "    </tr>\n",
                            "    <tr>\n",
                            "      <th>108127</th>\n",
                            "      <td>5</td>\n",
                            "      <td>n/a or no schooling</td>\n",
                            "      <td>NaN</td>\n",
                            "      <td>male</td>\n",
                            "    </tr>\n",
                            "    <tr>\n",
                            "      <th>95460</th>\n",
                            "      <td>8</td>\n",
                            "      <td>nursery school to grade 4</td>\n",
                            "      <td>NaN</td>\n",
                            "      <td>male</td>\n",
                            "    </tr>\n",
                            "    <tr>\n",
                            "      <th>73254</th>\n",
                            "      <td>53</td>\n",
                            "      <td>1 year of college</td>\n",
                            "      <td>9000.0</td>\n",
                            "      <td>male</td>\n",
                            "    </tr>\n",
                            "    <tr>\n",
                            "      <th>228074</th>\n",
                            "      <td>14</td>\n",
                            "      <td>grade 5, 6, 7, or 8</td>\n",
                            "      <td>NaN</td>\n",
                            "      <td>female</td>\n",
                            "    </tr>\n",
                            "    <tr>\n",
                            "      <th>232798</th>\n",
                            "      <td>58</td>\n",
                            "      <td>4 years of college</td>\n",
                            "      <td>33000.0</td>\n",
                            "      <td>female</td>\n",
                            "    </tr>\n",
                            "  </tbody>\n",
                            "</table>\n",
                            "</div>"
                        ],
                        "text/plain": [
                            "       age                       educ    inctot     sex\n",
                            "136741  15                    grade 9       0.0    male\n",
                            "40068   77                   grade 12   36200.0    male\n",
                            "59267   58         4 years of college       0.0  female\n",
                            "141069  59                   grade 12    8400.0    male\n",
                            "212024  56                   grade 12  100000.0    male\n",
                            "184478  56         4 years of college   80000.0  female\n",
                            "112077  48        5+ years of college  175000.0    male\n",
                            "263712  58                   grade 12    9100.0  female\n",
                            "77546   22                   grade 12       0.0  female\n",
                            "107543  60         4 years of college   61200.0    male\n",
                            "296739  30         4 years of college   10000.0  female\n",
                            "71168   15                   grade 10       0.0  female\n",
                            "177867  22         4 years of college    3000.0    male\n",
                            "237886   2        n/a or no schooling       NaN    male\n",
                            "62670   49        5+ years of college  230000.0    male\n",
                            "108127   5        n/a or no schooling       NaN    male\n",
                            "95460    8  nursery school to grade 4       NaN    male\n",
                            "73254   53          1 year of college    9000.0    male\n",
                            "228074  14        grade 5, 6, 7, or 8       NaN  female\n",
                            "232798  58         4 years of college   33000.0  female"
                        ]
                    },
                    "execution_count": 3,
                    "metadata": {},
                    "output_type": "execute_result"
                }
            ],
            "source": [
                "# replace all the values of `inctot` that are `9999999` with `np.nan`\n",
                "import numpy as np\n",
                "\n",
                "acs.loc[acs[\"inctot\"] == 9999999, \"inctot\"] = np.nan\n",
                "acs[\"inctot\"].value_counts()\n",
                "np.random.seed(12)\n",
                "acs.sample(20)"
            ]
        },
        {
            "cell_type": "markdown",
            "metadata": {},
            "source": [
                "### Exercise 4\n",
                "\n",
                "Attempt to calculate the average age of people in our data. What do you get? Why are you getting that error?\n",
                "\n",
                "You *should* get an error in trying to answer this question, but **PLEASE LEAVE THE CODE THAT GENERATES THIS ERROR COMMENTED OUT SO YOUR NOTEBOOK WILL RUN IN THE AUTOGRADER**. \n",
                "\n",
                "Then talk about the error in a markdown cell."
            ]
        },
        {
            "cell_type": "code",
            "execution_count": 4,
            "metadata": {},
            "outputs": [],
            "source": [
                "# I am now going to be calculating the average age of people in our data\n",
                "# acs[\"age\"].mean()"
            ]
        },
        {
            "cell_type": "markdown",
            "metadata": {},
            "source": [
                "#### Exercise 4: The reason why there is an error is because age is not appearing as a numerical variable, it is coming as a categorical variable. You can't take the mean of a categorical variable. "
            ]
        },
        {
            "cell_type": "markdown",
            "metadata": {},
            "source": [
                "### Exercise 5\n",
                "\n",
                "We want to be able to calculate things using age, so we need it to be a numeric type. Check the current type of `age`, and look at all the values of `age` to figure out why it's categorical and not numeric. You should find two problematic categories. Store the values of these categories in `\"ex5_age_young\"` and `\"ex5_age_old\"` (once you find them, it should be clear which is which)."
            ]
        },
        {
            "cell_type": "code",
            "execution_count": 5,
            "metadata": {},
            "outputs": [
                {
                    "name": "stdout",
                    "output_type": "stream",
                    "text": [
                        "The dictionary now has the string attached to different ages\n"
                    ]
                },
                {
                    "data": {
                        "text/plain": [
                            "{'ex5_age_young': 'less than 1 year old',\n",
                            " 'ex5_age_old': '90 (90+ in 1980 and 1990)'}"
                        ]
                    },
                    "execution_count": 5,
                    "metadata": {},
                    "output_type": "execute_result"
                }
            ],
            "source": [
                "# print(acs[\"age\"].dtype)\n",
                "\n",
                "# print(acs.loc[:,\"age\"])\n",
                "\n",
                "# acs.loc[acs[\"age\"] == \"less than 1 year old\", 'age']\n",
                "\n",
                "# acs[~acs[\"age\"].str.isnumeric()]\n",
                "\n",
                "results[\"ex5_age_young\"] = \"less than 1 year old\"\n",
                "results[\"ex5_age_old\"] = \"90 (90+ in 1980 and 1990)\"\n",
                "\n",
                "\n",
                "print(\"The dictionary now has the string attached to different ages\")\n",
                "results"
            ]
        },
        {
            "cell_type": "markdown",
            "metadata": {},
            "source": [
                "### Exercise 6\n",
                "\n",
                "In order to convert `age` into a numeric variable, we need to replace those problematic entries with values that `pandas` can later convert into numbers. Pick appropriate substitutions for the existing values and replace the current values. \n",
                "\n",
                "**Hint 1:** Categorical variables act like strings, so you might want to use string methods! \n",
                "\n",
                "**Hint 2:** Remember that characters like parentheses, pluses, asterisks, etc. are special in Python strings, and you have to escape them if you want them to be interpreted literally!\n",
                "\n",
                "**Hint 3:** Because the US Census has been conducted regularly for hundreds of years but exactly how the census has been conducted have occasionally changed, variables are sometimes coded in a way that might be interpreted in different ways for different census years. For example, hypothetically, one might write `90 (90+ in 1980 and 1990)` if the Censuses conducted in 1980 and 1990 used to top-code age at 90 (any values *over* 90 were just coded as 90), but more recent Censuses no longer top-coded age and recorded ages over 90 as the respondents actual age."
            ]
        },
        {
            "cell_type": "code",
            "execution_count": 6,
            "metadata": {},
            "outputs": [
                {
                    "name": "stdout",
                    "output_type": "stream",
                    "text": [
                        "The age is now numerical from categorical\n"
                    ]
                }
            ],
            "source": [
                "# Exercise 6\n",
                "\n",
                "acs[\"age\"] = acs[\"age\"].str.replace(results[\"ex5_age_young\"], \"0\")\n",
                "acs[\"age\"] = acs[\"age\"].str.replace(\"90 \\(90\\+ in 1980 and 1990\\)\", \"90\", regex=True)\n",
                "\n",
                "acs[\"age\"] = acs[\"age\"].astype(int)\n",
                "\n",
                "print(\"The age is now numerical from categorical\")"
            ]
        },
        {
            "cell_type": "markdown",
            "metadata": {},
            "source": [
                "### Exercise 7\n",
                "\n",
                "Now convert age from a categorical to numeric. Calculate the average age amoung this group, and store it in `\"ex7_avg_age\"`."
            ]
        },
        {
            "cell_type": "code",
            "execution_count": 7,
            "metadata": {},
            "outputs": [
                {
                    "name": "stdout",
                    "output_type": "stream",
                    "text": [
                        "41.30384885455982\n",
                        "The aveage age among this group is 41.30\n"
                    ]
                }
            ],
            "source": [
                "print(acs[\"age\"].mean())\n",
                "\n",
                "results[\"ex7_avg_age\"] = acs[\"age\"].mean()\n",
                "print(\"The aveage age among this group is {:.2f}\".format(results[\"ex7_avg_age\"]))"
            ]
        },
        {
            "cell_type": "markdown",
            "metadata": {},
            "source": [
                "### Exercise 8\n",
                "\n",
                "Let's now filter out anyone in our data whose age is less than 18. Note that before made `age` a numeric variable, we couldn't do this! Again, calculate the average age and this time store it in `\"ex8_avg_age\"`. \n",
                "\n",
                "Use this sample of people 18 and over for all subsequent exercises."
            ]
        },
        {
            "cell_type": "code",
            "execution_count": 8,
            "metadata": {},
            "outputs": [
                {
                    "name": "stdout",
                    "output_type": "stream",
                    "text": [
                        "The average age of people who are over 18 is 50 years old\n"
                    ]
                }
            ],
            "source": [
                "# Execercise 8 where we are trying to calculate the average age of people under 18\n",
                "age_filtered = acs[acs[\"age\"] >= 18]\n",
                "results[\"ex8_avg_age\"] = age_filtered[\"age\"].mean()\n",
                "\n",
                "print(\n",
                "    \"The average age of people who are over 18 is {:.0f} years old\".format(\n",
                "        results[\"ex8_avg_age\"]\n",
                "    )\n",
                ")"
            ]
        },
        {
            "cell_type": "markdown",
            "metadata": {},
            "source": [
                "### Exercise 9\n",
                "\n",
                "Create an indicator variable for whether each person has *at least* a college Bachelor's degree called `college_degree`. Use this variable to calculate the number of people in the dataset with a college degree. You may assume that to get a college degree you need to complete at least 4 years of college. Save the result as `\"ex9_num_college\"`."
            ]
        },
        {
            "cell_type": "code",
            "execution_count": 9,
            "metadata": {},
            "outputs": [
                {
                    "name": "stdout",
                    "output_type": "stream",
                    "text": [
                        "This is the number of students who completed at least 4 years of college 77013\n"
                    ]
                }
            ],
            "source": [
                "# Exercise 9 creating an indicator variable  to see how many students completed at least 4 years of college\n",
                "college_degree = [\"4 years of college\", \"5+ years of college\"]\n",
                "\n",
                "results[\"ex9_num_college\"] = (\n",
                "    age_filtered.loc[age_filtered[\"educ\"].isin(college_degree)].value_counts().sum()\n",
                ")\n",
                "\n",
                "print(\n",
                "    \"This is the number of students who completed at least 4 years of college {:.0f}\".format(\n",
                "        results[\"ex9_num_college\"]\n",
                "    )\n",
                ")"
            ]
        },
        {
            "cell_type": "markdown",
            "metadata": {},
            "source": [
                "### Exercise 10\n",
                "\n",
                "Let's examine how the educational gender gap. Use `pd.crosstab` to create a cross-tabulation of `sex` and `college_degree`. `pd.crosstab` will give you the number of people who have each combination of `sex` and `college_degree` (so in this case, it will give us a 2x2 table with Male and Female as rows, and `college_degree` True and False as columns, or vice versa. "
            ]
        },
        {
            "cell_type": "code",
            "execution_count": 10,
            "metadata": {},
            "outputs": [
                {
                    "name": "stdout",
                    "output_type": "stream",
                    "text": [
                        "educ    False  True \n",
                        "sex                 \n",
                        "male    85821  36181\n",
                        "female  90200  40832\n"
                    ]
                }
            ],
            "source": [
                "# This is a 2 x 2 table with Male and Females as rows and college degree True or False as columns\n",
                "\n",
                "gender = age_filtered[\"sex\"]\n",
                "\n",
                "degree = age_filtered[\"educ\"].isin(college_degree)\n",
                "\n",
                "\n",
                "cross_tab = pd.crosstab(gender, degree)\n",
                "print(cross_tab)"
            ]
        },
        {
            "cell_type": "markdown",
            "metadata": {},
            "source": [
                "### Exercise 11\n",
                "\n",
                "Counts are kind of hard to interpret. `pd.crosstab` can also normalize values to give percentages. Look at the `pd.crosstab` help file to figure out how to normalize the values in the table. Normalize them so that you get the share of men with and without college degree, and the share of women with and without college degrees.\n",
                "\n",
                "Store the share (between 0 and 1) of men with college degrees in `\"ex11_share_male_w_degrees\"`, and the share of women with degrees in `\"ex11_share_female_w_degrees\"`."
            ]
        },
        {
            "cell_type": "code",
            "execution_count": 11,
            "metadata": {},
            "outputs": [
                {
                    "name": "stdout",
                    "output_type": "stream",
                    "text": [
                        "educ       False     True \n",
                        "sex                       \n",
                        "male    0.703439  0.296561\n",
                        "female  0.688381  0.311619\n",
                        "The proportion of females with degrees is 0.31 and the number of males with degrees is 0.30\n"
                    ]
                }
            ],
            "source": [
                "# Exercise 11 normalize them so you can get share of men/women with and without college degrees\n",
                "cross_tab_normalized = pd.crosstab(gender, degree, normalize=\"index\")\n",
                "print(cross_tab_normalized)\n",
                "\n",
                "results[\"ex11_share_male_w_degrees\"] = cross_tab_normalized.loc[\"male\", True]\n",
                "results[\"ex11_share_female_w_degrees\"] = cross_tab_normalized.loc[\"female\", True]\n",
                "print(\n",
                "    \"The proportion of females with degrees is {:.2f} and the number of males with degrees is {:.2f}\".format(\n",
                "        results[\"ex11_share_female_w_degrees\"], results[\"ex11_share_male_w_degrees\"]\n",
                "    )\n",
                ")"
            ]
        },
        {
            "cell_type": "markdown",
            "metadata": {},
            "source": [
                "### Exercise 12\n",
                "\n",
                "Now, let's recreate that table for people who are 40 and over and people under 40. Over time, what does this suggest about the absolute difference in the share of men and women earning college degrees? Has it gotten larger, stayed the same, or gotten smaller? Store your answer (either `\"the absolute difference has increased\"` or `\"the absolute difference has decreased\"`) in `\"ex12_comparing\"`."
            ]
        },
        {
            "cell_type": "code",
            "execution_count": 12,
            "metadata": {},
            "outputs": [
                {
                    "name": "stdout",
                    "output_type": "stream",
                    "text": [
                        "True if they are 40 and below and False if they are 40 and above\n",
                        "educ       False     True \n",
                        "sex                       \n",
                        "male    0.373499  0.129095\n",
                        "female  0.331128  0.166278\n"
                    ]
                },
                {
                    "data": {
                        "text/plain": [
                            "{'ex5_age_young': 'less than 1 year old',\n",
                            " 'ex5_age_old': '90 (90+ in 1980 and 1990)',\n",
                            " 'ex7_avg_age': 41.30384885455982,\n",
                            " 'ex8_avg_age': 49.75769659413359,\n",
                            " 'ex9_num_college': 77013,\n",
                            " 'ex11_share_male_w_degrees': 0.29656071211947344,\n",
                            " 'ex11_share_female_w_degrees': 0.3116185359301545,\n",
                            " 'ex12_comparing': 'the absolute difference has increased'}"
                        ]
                    },
                    "execution_count": 12,
                    "metadata": {},
                    "output_type": "execute_result"
                }
            ],
            "source": [
                "# Exercise 12 to create a table for people who are 40/over and people who are under 40\n",
                "age_40 = acs[\"age\"] < 40\n",
                "cross_age_40_tab = pd.crosstab(\n",
                "    gender, degree, values=age_40, aggfunc=\"sum\", normalize=\"all\"\n",
                ")\n",
                "\n",
                "print(\"True if they are 40 and below and False if they are 40 and above\")\n",
                "print(cross_age_40_tab)\n",
                "\n",
                "results[\"ex12_comparing\"] = \"the absolute difference has increased\"\n",
                "results"
            ]
        },
        {
            "cell_type": "markdown",
            "metadata": {},
            "source": [
                "### Exercise 13\n",
                "\n",
                "In words, what is causing the change noted in Exercise 12 (i.e., looking at the tables above, tell me a story about Men and Women's College attainment)."
            ]
        },
        {
            "cell_type": "markdown",
            "metadata": {},
            "source": [
                "#### The reason why women are catching up to men when we look at younger ages over 18 is due to the how society has changed the view on a women's role and women's rights. Now it is more acceptable and more desirable for a women to get a college degree. This means now women are filling the gap we saw in the cross table of women and men over 40. There is also imporvement on women's rights and education scholarships that are making it more attainable for women to get an education."
            ]
        },
        {
            "cell_type": "markdown",
            "metadata": {},
            "source": [
                "## Want More Practice?\n",
                "\n",
                "Calculate the educational racial gap in the United States for White Americans, Black Americans, Hispanic Americans, and other groups. \n",
                "\n",
                "Note that to do these calculations, you'll have to deal with the fact that unlike most Americans, the American Census Bureau treats \"Hispanic\" not as a racial category, but a linguistic one. As a result, the racial category \"White\" in `race` actually includes most Hispanic Americans. For this analysis, we wish to work with the mutually exclusive categories of \"White, non-Hispanic\", \"White, Hispanic\", \"Black (Hispanic or non-Hispanic)\", and a category for everyone else. "
            ]
        },
        {
            "cell_type": "code",
            "execution_count": 13,
            "metadata": {},
            "outputs": [],
            "source": [
                "assert set(results.keys()) == {\n",
                "    \"ex5_age_young\",\n",
                "    \"ex5_age_old\",\n",
                "    \"ex7_avg_age\",\n",
                "    \"ex8_avg_age\",\n",
                "    \"ex9_num_college\",\n",
                "    \"ex11_share_male_w_degrees\",\n",
                "    \"ex11_share_female_w_degrees\",\n",
                "    \"ex12_comparing\",\n",
                "}"
            ]
        }
    ],
    "metadata": {
        "kernelspec": {
            "display_name": "Python 3.10.6 ('base')",
            "language": "python",
            "name": "python3"
        },
        "language_info": {
            "codemirror_mode": {
                "name": "ipython",
                "version": 3
            },
            "file_extension": ".py",
            "mimetype": "text/x-python",
            "name": "python",
            "nbconvert_exporter": "python",
            "pygments_lexer": "ipython3",
            "version": "3.11.5"
        },
        "vscode": {
            "interpreter": {
                "hash": "718fed28bf9f8c7851519acf2fb923cd655120b36de3b67253eeb0428bd33d2d"
            }
        }
    },
    "nbformat": 4,
    "nbformat_minor": 4
}
